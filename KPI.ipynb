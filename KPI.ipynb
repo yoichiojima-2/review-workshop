{
  "nbformat": 4,
  "nbformat_minor": 0,
  "metadata": {
    "colab": {
      "provenance": []
    },
    "kernelspec": {
      "name": "python3",
      "display_name": "Python 3"
    },
    "language_info": {
      "name": "python"
    }
  },
  "cells": [
    {
      "cell_type": "code",
      "execution_count": null,
      "metadata": {
        "id": "updhLCBpXCcx"
      },
      "outputs": [],
      "source": [
        "import pandas as pd\n",
        "import datetime\n",
        "import logging\n",
        "import argparse\n",
        "import json"
      ]
    },
    {
      "cell_type": "markdown",
      "source": [
        "ファイルパスと集計期間の設定"
      ],
      "metadata": {
        "id": "rmPhPdtYYFNT"
      }
    },
    {
      "cell_type": "code",
      "source": [
        "customer_file = 'data/customer_data.csv'\n",
        "purchase_file = 'data/purchase_data.csv'\n",
        "sales_file = 'data/sales_data.csv'\n",
        "start_date_str = '2024-01-01'\n",
        "end_date_str = '2024-12-31'\n",
        "\n",
        "start_date = pd.to_datetime(start_date_str).date() if start_date_str else None\n",
        "end_date = pd.to_datetime(end_date_str).date() if end_date_str else None"
      ],
      "metadata": {
        "id": "X1pBqrYkX_eb"
      },
      "execution_count": null,
      "outputs": []
    },
    {
      "cell_type": "markdown",
      "source": [
        "データの読み込み"
      ],
      "metadata": {
        "id": "SOgH8IcIYLeO"
      }
    },
    {
      "cell_type": "code",
      "source": [
        "try:\n",
        "    customer_df = pd.read_csv(customer_file)\n",
        "    print(f\"'{customer_file}' を読み込みました。\")\n",
        "except FileNotFoundError:\n",
        "    print(f\"エラー: ファイル '{customer_file}' が見つかりません。\")\n",
        "    customer_df = None\n",
        "except Exception as e:\n",
        "    print(f\"エラー: '{customer_file}' の読み込み中に予期しないエラーが発生しました: {e}\")\n",
        "    customer_df = None\n",
        "\n",
        "try:\n",
        "    purchase_df = pd.read_csv(purchase_file)\n",
        "    print(f\"'{purchase_file}' を読み込みました。\")\n",
        "except FileNotFoundError:\n",
        "    print(f\"エラー: ファイル '{purchase_file}' が見つかりません。\")\n",
        "    purchase_df = None\n",
        "except Exception as e:\n",
        "    printr(f\"エラー: '{purchase_file}' の読み込み中に予期しないエラーが発生しました: {e}\")\n",
        "    purchase_df = None\n",
        "\n",
        "try:\n",
        "    sales_df = pd.read_csv(sales_file)\n",
        "    print(f\"'{sales_file}' を読み込みました。\")\n",
        "except FileNotFoundError:\n",
        "    print(f\"エラー: ファイル '{sales_file}' が見つかりません。\")\n",
        "    sales_df = None\n",
        "except Exception as e:\n",
        "    print(f\"エラー: '{sales_file}' の読み込み中に予期しないエラーが発生しました: {e}\")\n",
        "    sales_df = None"
      ],
      "metadata": {
        "id": "p08Xiq_tYMRc"
      },
      "execution_count": null,
      "outputs": []
    },
    {
      "cell_type": "markdown",
      "source": [
        "売上データのKPI算出"
      ],
      "metadata": {
        "id": "OlxW7pxyYVwD"
      }
    },
    {
      "cell_type": "code",
      "source": [
        "sales_kpis = {}\n",
        "if sales_df is not None and not sales_df.empty:\n",
        "    print(\"売上KPIを算出します。\")\n",
        "    df_sales = sales_df.copy()\n",
        "\n",
        "    if 'sales_date' in df_sales.columns:\n",
        "        df_sales['sales_date'] = pd.to_datetime(df_sales['sales_date']).dt.date\n",
        "        if start_date:\n",
        "            df_sales = df_sales[df_sales['sales_date'] >= start_date]\n",
        "        if end_date:\n",
        "            df_sales = df_sales[df_sales['sales_date'] <= end_date]\n",
        "\n",
        "        # total_revenue = df_sales['total_amount'].sum()\n",
        "        # daily_revenue = df_sales.groupby('sales_date')['total_amount'].sum().to_dict()\n",
        "        # product_revenue = df_sales.groupby('item_name')['total_amount'].sum().sort_values(ascending=False).to_dict()\n",
        "        # average_discount_rate = df_sales['discount_rate'].mean() if not df_sales['discount_rate'].empty else 0\n",
        "        # average_order_value = total_revenue / len(df_sales['order_id'].unique()) if len(df_sales['order_id'].unique()) > 0 else 0\n",
        "        # average_customer_spend = total_revenue / df_sales['customer_id'].nunique() if not df_sales['customer_id'].isnull().all() and df_sales['customer_id'].nunique() > 0 else average_order_value\n",
        "\n",
        "        member_sales = df_sales[df_sales['customer_id'].notna()]['total_amount'].sum()\n",
        "        # non_member_sales = df_sales[df_sales['customer_id'].isna()]['total_amount'].sum()\n",
        "\n",
        "        sales_kpis = {\n",
        "            # \"total_revenue\": total_revenue,\n",
        "            # \"daily_revenue\": daily_revenue,\n",
        "            # \"product_revenue\": product_revenue,\n",
        "            # \"average_discount_rate\": average_discount_rate,\n",
        "            # \"average_order_value\": average_order_value,\n",
        "            # \"average_customer_spend\": average_customer_spend,\n",
        "            \"member_sales\": member_sales,\n",
        "            # \"non_member_sales\": non_member_sales\n",
        "        }\n",
        "    else:\n",
        "        print(\"売上データに 'sales_date' 列が存在しません。\")\n",
        "else:\n",
        "    print(\"売上データが空です。売上KPIの算出をスキップします。\")"
      ],
      "metadata": {
        "id": "jhPv1FMeYX7_"
      },
      "execution_count": null,
      "outputs": []
    },
    {
      "cell_type": "markdown",
      "source": [
        "顧客データのKPI算出"
      ],
      "metadata": {
        "id": "UEcEP8F8YeGh"
      }
    },
    {
      "cell_type": "code",
      "source": [
        "customer_kpis = {}\n",
        "if customer_df is not None and not customer_df.empty and sales_df is not None and not sales_df.empty and 'customer_id' in sales_df.columns and 'sales_date' in sales_df.columns:\n",
        "    print(\"顧客KPIを算出します。\")\n",
        "    df_sales_customer = sales_df.copy()\n",
        "    df_sales_customer['sales_date'] = pd.to_datetime(df_sales_customer['sales_date']).dt.date\n",
        "    if start_date:\n",
        "        df_sales_customer = df_sales_customer[df_sales_customer['sales_date'] >= start_date]\n",
        "    if end_date:\n",
        "        df_sales_customer = df_sales_customer[df_sales_customer['sales_date'] <= end_date]\n",
        "\n",
        "    repeat_customers = df_sales_customer.groupby('customer_id')['sales_date'].nunique()[df_sales_customer.groupby('customer_id')['sales_date'].nunique() > 1].count() if not df_sales_customer.empty else 0\n",
        "    average_purchase_frequency = df_sales_customer.groupby('customer_id')['sales_date'].nunique().mean() if not df_sales_customer.empty and df_sales_customer['customer_id'].nunique() > 0 else 0\n",
        "\n",
        "    customer_kpis = {\n",
        "        \"repeat_customers\": repeat_customers,\n",
        "        \"average_purchase_frequency\": average_purchase_frequency\n",
        "    }\n",
        "else:\n",
        "    print(\"顧客データまたは売上データが不十分なため、顧客KPIの算出をスキップします。\")"
      ],
      "metadata": {
        "id": "3tWdyo8wYhUj"
      },
      "execution_count": null,
      "outputs": []
    },
    {
      "cell_type": "markdown",
      "source": [
        "仕入れデータのKPI算出"
      ],
      "metadata": {
        "id": "fy6SoY78Yj5v"
      }
    },
    {
      "cell_type": "code",
      "source": [
        "purchase_kpis = {}\n",
        "if purchase_df is not None and not purchase_df.empty:\n",
        "    print(\"仕入れKPIを算出します。\")\n",
        "    df_purchase = purchase_df.copy()\n",
        "\n",
        "    if 'purchase_date' in df_purchase.columns:\n",
        "        df_purchase['purchase_date'] = pd.to_datetime(df_purchase['purchase_date']).dt.date\n",
        "        if start_date:\n",
        "            df_purchase = df_purchase[df_purchase['purchase_date'] >= start_date]\n",
        "        if end_date:\n",
        "            df_purchase = df_purchase[df_purchase['purchase_date'] <= end_date]\n",
        "\n",
        "        # total_purchase_amount = (df_purchase['quantity'] * df_purchase['unit_price']).sum()\n",
        "        # daily_purchase_amount = df_purchase.groupby('purchase_date')[['quantity', 'unit_price']].apply(lambda x: (x['quantity'] * x['unit_price']).sum()).to_dict()\n",
        "        product_purchase_amount = df_purchase.groupby('item_name')[['quantity', 'unit_price']].apply(lambda x: (x['quantity'] * x['unit_price']).sum()).sort_values(ascending=False).to_dict()\n",
        "        # supplier_purchase_amount = df_purchase.groupby('supplier_name')[['quantity', 'unit_price']].apply(lambda x: (x['quantity'] * x['unit_price']).sum()).sort_values(ascending=False).to_dict()\n",
        "\n",
        "        purchase_kpis = {\n",
        "            # \"total_purchase_amount\": total_purchase_amount,\n",
        "            # \"daily_purchase_amount\": daily_purchase_amount,\n",
        "            \"product_purchase_amount\": product_purchase_amount,\n",
        "            # \"supplier_purchase_amount\": supplier_purchase_amount\n",
        "        }\n",
        "    else:\n",
        "        print(\"仕入れデータに 'purchase_date' 列が存在しません。\")\n",
        "else:\n",
        "    print(\"仕入れデータが空です。仕入れKPIの算出をスキップします。\")"
      ],
      "metadata": {
        "id": "pBgIdiiAYq4f"
      },
      "execution_count": null,
      "outputs": []
    },
    {
      "cell_type": "markdown",
      "source": [
        "分析結果の出力"
      ],
      "metadata": {
        "id": "Qy4MJI_3Y1H8"
      }
    },
    {
      "cell_type": "code",
      "source": [
        "results = {\n",
        "    \"sales_kpis\": sales_kpis,\n",
        "    \"customer_kpis\": customer_kpis,\n",
        "    \"purchase_kpis\": purchase_kpis\n",
        "}\n",
        "\n",
        "print(\"\\n--- 分析結果 ---\")\n",
        "print(json.dumps(results, indent=4, ensure_ascii=False))\n",
        "print(\"データ分析を完了しました。\")"
      ],
      "metadata": {
        "id": "jUaAObEDYyQi"
      },
      "execution_count": null,
      "outputs": []
    }
  ]
}